{
 "cells": [
  {
   "cell_type": "code",
   "execution_count": 1,
   "id": "50751a15-a137-4c69-ae42-bf9ac26a2148",
   "metadata": {},
   "outputs": [],
   "source": [
    "from datetime import datetime, timedelta\n",
    "import sys\n",
    "import os\n",
    "import pandas as pd\n",
    "import numpy as np\n",
    "colony = 'worker05'\n",
    "date_tagging = [ [2024, 3, 14], [2024, 4, 11] ] \n",
    "crop_datetime = date_tagging[0]"
   ]
  },
  {
   "cell_type": "code",
   "execution_count": 2,
   "id": "c209b334-2a1b-492a-80f1-b6bed7447b83",
   "metadata": {},
   "outputs": [],
   "source": [
    "def parameters_list_crop_by_datetime(lines, crop_date):\n",
    "    # initialize lists\n",
    "    ID_num = []\n",
    "    center_x = []\n",
    "    center_y = []\n",
    "    angle = []\n",
    "    date_time = []\n",
    "    CPU_temp = []\n",
    "\n",
    "    for line in lines:\n",
    "        # replace unnecessary characters in line\n",
    "        line = line.replace('[','')\n",
    "        line = line.replace(']','')\n",
    "        line = line.replace('CPU','')\n",
    "        \n",
    "        # replace month name with month number so that it can be converted to datetime type\n",
    "        months = ['Jan','Feb','Mar','Apr','May','Jun','Jul','Aug','Sep','Oct','Nov','Dec']\n",
    "        for month in range(0,len(months)):\n",
    "            line = line.replace(months[month],str(month+1))\n",
    "            \n",
    "        # split line by spaces\n",
    "        line = line.split()\n",
    "        \n",
    "        # extract info and convert to usable types\n",
    "        ID_num.append(int(line[6]))\n",
    "        center_x.append(float(line[8]))\n",
    "        center_y.append(float(line[9]))\n",
    "        angle.append(float(line[11]))\n",
    "        CPU_temp.append(float(line[13]))\n",
    "        \n",
    "        # record dates and times as datetime type for calculations\n",
    "        (h, m, s) = line[3].split(':')\n",
    "        line_time = datetime(int(line[4]),int(line[1]),int(line[2]),int(h),int(m),int(s))\n",
    "        date_time.append(line_time)\n",
    "    \n",
    "    \n",
    "    for index in range(0,len(date_time)):\n",
    "        if date_time[index] >= datetime(crop_date[0], crop_date[1], crop_date[2]):\n",
    "            crop_date_index = index\n",
    "            break\n",
    "    \n",
    "    \n",
    "    \n",
    "    return ID_num[crop_date_index::], center_x[crop_date_index::], center_y[crop_date_index::], angle[crop_date_index::], date_time[crop_date_index::], CPU_temp[crop_date_index::]\n",
    "    "
   ]
  },
  {
   "cell_type": "code",
   "execution_count": 3,
   "id": "6837b5dd-7fbc-432d-83e4-3504fd395576",
   "metadata": {},
   "outputs": [],
   "source": [
    "with open(colony + '.txt') as file: # $ change file name if necessary \n",
    "    lines = file.readlines()\n",
    "    file.close()\n",
    "\n",
    "ID_num, center_x, center_y, angle, date_time, CPU_temp = parameters_list_crop_by_datetime(lines, crop_datetime)\n"
   ]
  },
  {
   "cell_type": "code",
   "execution_count": 4,
   "id": "e00add19-958a-4f67-907e-6f37fd99677f",
   "metadata": {},
   "outputs": [
    {
     "data": {
      "text/html": [
       "<div>\n",
       "<style scoped>\n",
       "    .dataframe tbody tr th:only-of-type {\n",
       "        vertical-align: middle;\n",
       "    }\n",
       "\n",
       "    .dataframe tbody tr th {\n",
       "        vertical-align: top;\n",
       "    }\n",
       "\n",
       "    .dataframe thead th {\n",
       "        text-align: right;\n",
       "    }\n",
       "</style>\n",
       "<table border=\"1\" class=\"dataframe\">\n",
       "  <thead>\n",
       "    <tr style=\"text-align: right;\">\n",
       "      <th></th>\n",
       "      <th>track_tagid</th>\n",
       "      <th>x</th>\n",
       "      <th>y</th>\n",
       "      <th>datetime</th>\n",
       "      <th>angle</th>\n",
       "    </tr>\n",
       "  </thead>\n",
       "  <tbody>\n",
       "    <tr>\n",
       "      <th>0</th>\n",
       "      <td>8568</td>\n",
       "      <td>31.772220</td>\n",
       "      <td>260.044083</td>\n",
       "      <td>2024-03-14 19:32:53</td>\n",
       "      <td>270.888823</td>\n",
       "    </tr>\n",
       "    <tr>\n",
       "      <th>1</th>\n",
       "      <td>3972</td>\n",
       "      <td>238.394828</td>\n",
       "      <td>246.301779</td>\n",
       "      <td>2024-03-15 00:44:58</td>\n",
       "      <td>95.547329</td>\n",
       "    </tr>\n",
       "    <tr>\n",
       "      <th>2</th>\n",
       "      <td>2988</td>\n",
       "      <td>20.697819</td>\n",
       "      <td>232.735955</td>\n",
       "      <td>2024-03-15 04:14:38</td>\n",
       "      <td>252.737376</td>\n",
       "    </tr>\n",
       "    <tr>\n",
       "      <th>3</th>\n",
       "      <td>119</td>\n",
       "      <td>733.835494</td>\n",
       "      <td>23.445411</td>\n",
       "      <td>2024-03-15 09:43:19</td>\n",
       "      <td>308.889661</td>\n",
       "    </tr>\n",
       "    <tr>\n",
       "      <th>4</th>\n",
       "      <td>119</td>\n",
       "      <td>744.773536</td>\n",
       "      <td>24.291000</td>\n",
       "      <td>2024-03-15 09:43:23</td>\n",
       "      <td>323.908362</td>\n",
       "    </tr>\n",
       "    <tr>\n",
       "      <th>...</th>\n",
       "      <td>...</td>\n",
       "      <td>...</td>\n",
       "      <td>...</td>\n",
       "      <td>...</td>\n",
       "      <td>...</td>\n",
       "    </tr>\n",
       "    <tr>\n",
       "      <th>17662</th>\n",
       "      <td>5183</td>\n",
       "      <td>302.810705</td>\n",
       "      <td>194.953068</td>\n",
       "      <td>2024-05-05 16:37:06</td>\n",
       "      <td>270.897081</td>\n",
       "    </tr>\n",
       "    <tr>\n",
       "      <th>17663</th>\n",
       "      <td>5183</td>\n",
       "      <td>340.562724</td>\n",
       "      <td>271.436619</td>\n",
       "      <td>2024-05-05 16:37:21</td>\n",
       "      <td>99.913396</td>\n",
       "    </tr>\n",
       "    <tr>\n",
       "      <th>17664</th>\n",
       "      <td>5017</td>\n",
       "      <td>693.357921</td>\n",
       "      <td>63.091742</td>\n",
       "      <td>2024-05-05 16:42:14</td>\n",
       "      <td>94.338477</td>\n",
       "    </tr>\n",
       "    <tr>\n",
       "      <th>17665</th>\n",
       "      <td>5017</td>\n",
       "      <td>703.129587</td>\n",
       "      <td>46.054886</td>\n",
       "      <td>2024-05-05 16:42:14</td>\n",
       "      <td>83.400180</td>\n",
       "    </tr>\n",
       "    <tr>\n",
       "      <th>17666</th>\n",
       "      <td>513</td>\n",
       "      <td>553.879455</td>\n",
       "      <td>133.641499</td>\n",
       "      <td>2024-05-07 13:34:51</td>\n",
       "      <td>92.809775</td>\n",
       "    </tr>\n",
       "  </tbody>\n",
       "</table>\n",
       "<p>17667 rows × 5 columns</p>\n",
       "</div>"
      ],
      "text/plain": [
       "       track_tagid           x           y            datetime       angle\n",
       "0             8568   31.772220  260.044083 2024-03-14 19:32:53  270.888823\n",
       "1             3972  238.394828  246.301779 2024-03-15 00:44:58   95.547329\n",
       "2             2988   20.697819  232.735955 2024-03-15 04:14:38  252.737376\n",
       "3              119  733.835494   23.445411 2024-03-15 09:43:19  308.889661\n",
       "4              119  744.773536   24.291000 2024-03-15 09:43:23  323.908362\n",
       "...            ...         ...         ...                 ...         ...\n",
       "17662         5183  302.810705  194.953068 2024-05-05 16:37:06  270.897081\n",
       "17663         5183  340.562724  271.436619 2024-05-05 16:37:21   99.913396\n",
       "17664         5017  693.357921   63.091742 2024-05-05 16:42:14   94.338477\n",
       "17665         5017  703.129587   46.054886 2024-05-05 16:42:14   83.400180\n",
       "17666          513  553.879455  133.641499 2024-05-07 13:34:51   92.809775\n",
       "\n",
       "[17667 rows x 5 columns]"
      ]
     },
     "execution_count": 4,
     "metadata": {},
     "output_type": "execute_result"
    }
   ],
   "source": [
    "vdf = pd.DataFrame.from_dict({'track_tagid':ID_num,'x':center_x,'y':center_y,'datetime':date_time,'angle':angle})\n",
    "vdf"
   ]
  },
  {
   "cell_type": "code",
   "execution_count": 5,
   "id": "20809e4a-1b65-487f-9940-6fba53ec38d7",
   "metadata": {},
   "outputs": [
    {
     "data": {
      "text/plain": [
       "316.2050042"
      ]
     },
     "execution_count": 5,
     "metadata": {},
     "output_type": "execute_result"
    }
   ],
   "source": [
    "max(vdf['y'])"
   ]
  },
  {
   "cell_type": "code",
   "execution_count": 6,
   "id": "e5153372-a67c-44f1-9b76-6d7746c12e92",
   "metadata": {},
   "outputs": [],
   "source": [
    "#SECONDS THRESHOLD\n",
    "#used to classify multiple detections into part of a single event\n",
    "#also used to tell when two detections are part of different events\n",
    "#by checking the time distance between them\n",
    "t = 15\n",
    "\n",
    "#DISTANCE THRESHOLD\n",
    "#used to classify an event as entering or exiting\n",
    "#when two consecutive detections of the same event \n",
    "#have this distance in y position, they are utilized to predict\n",
    "#the trajectory. If not then it checks the detection prior for\n",
    "#the distance threshold, and continues doing so until it finds\n",
    "#the last detection in the event or until it finds a distance\n",
    "#of more than the threshold\n",
    "\n",
    "t2 = 10\n",
    "\n",
    "#ANGLE THRESHOLD\n",
    "#used to generate angle ranges for classifying as exiting\n",
    "#or entering\n",
    "\n",
    "angle = 30\n"
   ]
  },
  {
   "cell_type": "markdown",
   "id": "a9280006-977f-4a7d-b874-ba7f24d4b47f",
   "metadata": {},
   "source": [
    "## Modified look-at prior events for this type of data"
   ]
  },
  {
   "cell_type": "code",
   "execution_count": 7,
   "id": "f3a8bcd6-fdd3-470a-966a-0a0c5d1e53ef",
   "metadata": {},
   "outputs": [],
   "source": [
    "def beeCleanPrior(bee):\n",
    "\n",
    "    id = bee['track_tagid'].iloc[0]\n",
    "\n",
    "    new_event = []\n",
    "    datetime = []\n",
    "        \n",
    "    for i in range(len(bee)-1):\n",
    "\n",
    "            time = bee['datetime'].iloc[i]\n",
    "            next_t = bee['datetime'].iloc[i+1]\n",
    "\n",
    "            init = bee['y'].iloc[i]\n",
    "\n",
    "            #if time passed is greater than the threshold,\n",
    "            #classify the last detection in an event\n",
    "            if (next_t - time).total_seconds() > t:\n",
    "                second = bee['y'].iloc[i]\n",
    "                matched = False\n",
    "                counter = 1\n",
    "                #iterate backwards until the distance threshold\n",
    "                #is met or until they reach the first detection in\n",
    "                #the event\n",
    "                while not matched: \n",
    "                    if abs(second-init) > t2:\n",
    "                        if second > init:\n",
    "                            new_event.append('exiting')\n",
    "                        else:\n",
    "                            new_event.append('entering')\n",
    "                        matched = True\n",
    "                    elif counter < i and (time - bee['datetime'].iloc[i-counter]).total_seconds() < t:\n",
    "                        init = bee['y'].iloc[i-counter]\n",
    "                        counter += 1\n",
    "                    else:\n",
    "                        if second > init:\n",
    "                            new_event.append('exiting')\n",
    "                        elif init > second:\n",
    "                            new_event.append('entering')\n",
    "                        else:\n",
    "                            new_event.append('unknown')\n",
    "                        matched = True\n",
    "                datetime.append(time)\n",
    "                \n",
    "                \n",
    "            \n",
    "    tagID = [id] * len(new_event)\n",
    "    df = pd.DataFrame.from_dict({'tagID': tagID, 'datetime':datetime, 'event':new_event})\n",
    "    return df"
   ]
  },
  {
   "cell_type": "code",
   "execution_count": 8,
   "id": "41c7abaa-7d68-4b2b-bc6c-635a973e638f",
   "metadata": {},
   "outputs": [
    {
     "name": "stderr",
     "output_type": "stream",
     "text": [
      "C:\\Users\\kashi\\AppData\\Local\\Temp\\ipykernel_8336\\2779204676.py:11: FutureWarning: The behavior of DataFrame concatenation with empty or all-NA entries is deprecated. In a future version, this will no longer exclude empty or all-NA columns when determining the result dtypes. To retain the old behavior, exclude the relevant entries before the concat operation.\n",
      "  new = pd.concat(bees, axis = 0)\n"
     ]
    }
   ],
   "source": [
    "bees = []\n",
    "\n",
    "beeIDs = vdf['track_tagid'].unique()\n",
    "for bee in beeIDs:\n",
    "\n",
    "    b = vdf[vdf['track_tagid'] == bee].copy().reset_index()\n",
    "    events = beeCleanPrior(b)\n",
    "    bees.append(events)\n",
    "    \n",
    "    \n",
    "new = pd.concat(bees, axis = 0) \n",
    "new['tagID'] = new['tagID'].apply(lambda x: int(x))\n",
    "new.to_csv(\"beecam-prior.csv\", index=False)\n",
    "prior = new"
   ]
  },
  {
   "cell_type": "code",
   "execution_count": 9,
   "id": "0d6bcb6b-3103-44bc-beca-3c038da77ab0",
   "metadata": {},
   "outputs": [
    {
     "data": {
      "text/plain": [
       "0.36401212455221826"
      ]
     },
     "execution_count": 9,
     "metadata": {},
     "output_type": "execute_result"
    }
   ],
   "source": [
    "len(new[new['event'] == 'unknown'])/len(new)"
   ]
  },
  {
   "cell_type": "markdown",
   "id": "ee1f746c-665d-4de9-ad77-42b1264df8b9",
   "metadata": {},
   "source": [
    "## Angle based from BeeCam-AprilTag"
   ]
  },
  {
   "cell_type": "code",
   "execution_count": 10,
   "id": "5e6b58b9-5f58-4825-afc7-78804e91c902",
   "metadata": {},
   "outputs": [],
   "source": [
    "def beeCleanAngle(bee):\n",
    "\n",
    "    id = bee['track_tagid'].iloc[0]\n",
    "    new_event = []\n",
    "    datetime = []\n",
    "    vector_x = []\n",
    "    vector_y = []\n",
    "\n",
    "    \n",
    "    exit_min = 180 + angle\n",
    "    exit_max = 360 - angle\n",
    "    enter_min = angle\n",
    "    enter_max = 180 - angle\n",
    "        \n",
    "    \n",
    "    for i in range(len(bee)-1):\n",
    "\n",
    "            time = bee['datetime'].iloc[i]\n",
    "            next_t = bee['datetime'].iloc[i+1]\n",
    "            angles = bee['angle'].iloc[i+1]\n",
    "\n",
    "            #obtain direction vector \n",
    "            #normalized to a magnitude of 1\n",
    "            dx = np.cos(np.deg2rad(angles)) \n",
    "            dy = np.sin(np.deg2rad(angles))\n",
    "            angle_deg = np.rad2deg(np.arctan2(dy, dx))\n",
    "            unit_dx = np.cos(np.deg2rad(angle_deg))\n",
    "            unit_dy = np.sin(np.deg2rad(angle_deg))\n",
    "\n",
    "            vector_x.append(unit_dx)\n",
    "            vector_y.append(unit_dy)\n",
    "            \n",
    "            #if next detection is further than the threshold,\n",
    "            #utilize all stored angles to calculate event trajectory\n",
    "            if (next_t - time).total_seconds() > t:\n",
    "                #obtain average\n",
    "                avg_x = sum(vector_x)/len(vector_x)\n",
    "                avg_y = sum(vector_y)/len(vector_y)\n",
    "\n",
    "                if avg_x == 0 and avg_y == 0:\n",
    "                    deg = 0\n",
    "                elif avg_x == 0 and avg_y != 0:\n",
    "                    if avg_y > 0:\n",
    "                        deg = 270\n",
    "                    elif avg_y < 0:\n",
    "                        deg = 90\n",
    "                else:\n",
    "                    # determine direction angle using arctan\n",
    "                    deg = np.rad2deg(np.arctan(avg_y/avg_x))\n",
    "                    \n",
    "                    # since arctan limits are (-90,90), use coordinate directions to \n",
    "                    # correct the angle to be within standard [0,360) range\n",
    "                    if avg_x > 0 and avg_y >= 0:\n",
    "                        deg = deg\n",
    "                    elif avg_x < 0 and avg_y >= 0:\n",
    "                        deg = 180 + deg\n",
    "                    elif avg_x < 0 and avg_y < 0:\n",
    "                        deg = deg + 180\n",
    "                    elif avg_x > 0 and avg_y < 0:\n",
    "                        deg = 360 + deg\n",
    "\n",
    "                #classify events based on angle threshold\n",
    "                if deg >= exit_min and deg <= exit_max:\n",
    "                    new_event.append('exiting')\n",
    "                elif deg >= enter_min and deg <= enter_max:\n",
    "                    new_event.append('entering')\n",
    "                else:\n",
    "                    new_event.append('unknown')\n",
    "                datetime.append(time)\n",
    "                vector_x = []\n",
    "                vector_y = []\n",
    "            \n",
    "    tagID = [id] * len(new_event)\n",
    "    df = pd.DataFrame.from_dict({'tagID': tagID, 'datetime':datetime, 'event':new_event})\n",
    "    #print(bee)\n",
    "    return df"
   ]
  },
  {
   "cell_type": "code",
   "execution_count": 11,
   "id": "05ad3fdb-9154-4c3a-8a65-8245664f0710",
   "metadata": {},
   "outputs": [
    {
     "name": "stderr",
     "output_type": "stream",
     "text": [
      "C:\\Users\\kashi\\AppData\\Local\\Temp\\ipykernel_8336\\2778133797.py:12: FutureWarning: The behavior of DataFrame concatenation with empty or all-NA entries is deprecated. In a future version, this will no longer exclude empty or all-NA columns when determining the result dtypes. To retain the old behavior, exclude the relevant entries before the concat operation.\n",
      "  new = pd.concat(bees, axis = 0)\n"
     ]
    }
   ],
   "source": [
    "bees = []\n",
    "\n",
    "beeIDs = vdf['track_tagid'].unique()\n",
    "for bee in beeIDs:\n",
    "\n",
    "    b = vdf[vdf['track_tagid'] == bee].copy().reset_index()\n",
    "    events = beeCleanAngle(b)\n",
    "    #print(events)\n",
    "    bees.append(events)\n",
    "    \n",
    "    \n",
    "new = pd.concat(bees, axis = 0) \n",
    "new['tagID'] = new['tagID'].apply(lambda x: int(x))\n",
    "new.to_csv(\"beecam-angle.csv\", index=False)\n",
    "angles = new"
   ]
  },
  {
   "cell_type": "code",
   "execution_count": 12,
   "id": "b1bd4d29-c1e0-4ea5-b9d3-557173f98aad",
   "metadata": {},
   "outputs": [
    {
     "data": {
      "text/plain": [
       "0.17139707908514742"
      ]
     },
     "execution_count": 12,
     "metadata": {},
     "output_type": "execute_result"
    }
   ],
   "source": [
    "len(new[new['event'] == 'unknown'])/len(new)"
   ]
  },
  {
   "cell_type": "code",
   "execution_count": 13,
   "id": "ebf71b5f-d62d-4ede-b52f-e0db7fa816a7",
   "metadata": {},
   "outputs": [
    {
     "data": {
      "text/plain": [
       "0.8591625883632409"
      ]
     },
     "execution_count": 13,
     "metadata": {},
     "output_type": "execute_result"
    }
   ],
   "source": [
    "len(prior[(prior['event'] == angles['event']) & (prior['event'] != 'unknown') & (angles['event'] != 'unknown')])/len(prior[(prior['event'] != 'unknown') & (angles['event'] != 'unknown')])"
   ]
  },
  {
   "cell_type": "code",
   "execution_count": null,
   "id": "49613e5d-67f0-42d5-b48b-e8a7aeb8ff11",
   "metadata": {},
   "outputs": [],
   "source": []
  },
  {
   "cell_type": "code",
   "execution_count": null,
   "id": "e77b4c70-ab62-4683-a862-d952aa39f5af",
   "metadata": {},
   "outputs": [],
   "source": []
  },
  {
   "cell_type": "code",
   "execution_count": null,
   "id": "a756dd79-fbcc-43a6-8b1a-eb3741727f8d",
   "metadata": {},
   "outputs": [],
   "source": []
  }
 ],
 "metadata": {
  "kernelspec": {
   "display_name": "Python 3 (ipykernel)",
   "language": "python",
   "name": "python3"
  },
  "language_info": {
   "codemirror_mode": {
    "name": "ipython",
    "version": 3
   },
   "file_extension": ".py",
   "mimetype": "text/x-python",
   "name": "python",
   "nbconvert_exporter": "python",
   "pygments_lexer": "ipython3",
   "version": "3.12.1"
  }
 },
 "nbformat": 4,
 "nbformat_minor": 5
}
